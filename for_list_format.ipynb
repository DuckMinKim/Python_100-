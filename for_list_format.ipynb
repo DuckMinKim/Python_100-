{
 "cells": [
  {
   "cell_type": "markdown",
   "metadata": {},
   "source": [
    "### for_list_format"
   ]
  },
  {
   "cell_type": "markdown",
   "metadata": {},
   "source": [
    "## 1. Control Flow"
   ]
  },
  {
   "cell_type": "code",
   "execution_count": 79,
   "metadata": {},
   "outputs": [
    {
     "data": {
      "text/plain": [
       "([1, 2, 3, 4, 5], list)"
      ]
     },
     "execution_count": 79,
     "metadata": {},
     "output_type": "execute_result"
    }
   ],
   "source": [
    "num = [1,2,3,4,5]\n",
    "num, type(num)"
   ]
  },
  {
   "cell_type": "code",
   "execution_count": 4,
   "metadata": {},
   "outputs": [
    {
     "name": "stdout",
     "output_type": "stream",
     "text": [
      "1 2 3 4 5 "
     ]
    }
   ],
   "source": [
    "for i in num:\n",
    "    print(i,end=\" \")"
   ]
  },
  {
   "cell_type": "code",
   "execution_count": 6,
   "metadata": {},
   "outputs": [
    {
     "data": {
      "text/plain": [
       "([1, 2, 3, 4, 5, 6, 7, 8, 9, 10], list)"
      ]
     },
     "execution_count": 6,
     "metadata": {},
     "output_type": "execute_result"
    }
   ],
   "source": [
    "num = list(range(1,11))\n",
    "num, type(num)"
   ]
  },
  {
   "cell_type": "code",
   "execution_count": 8,
   "metadata": {},
   "outputs": [
    {
     "name": "stdout",
     "output_type": "stream",
     "text": [
      "1 :홀수\n",
      "2 :짝수\n",
      "3 :홀수\n",
      "4 :짝수\n",
      "5 :홀수\n",
      "6 :짝수\n",
      "7 :홀수\n",
      "8 :짝수\n",
      "9 :홀수\n",
      "10 :짝수\n"
     ]
    }
   ],
   "source": [
    "for i in num:\n",
    "    if i%2 == 0:\n",
    "        print(i, ':짝수')\n",
    "    else:\n",
    "        print(i, ':홀수')"
   ]
  },
  {
   "cell_type": "code",
   "execution_count": 14,
   "metadata": {},
   "outputs": [
    {
     "name": "stdout",
     "output_type": "stream",
     "text": [
      "1 교시 국\n",
      "2 교시 영\n",
      "3 교시 수\n",
      "4 교시 정보\n"
     ]
    }
   ],
   "source": [
    "sub = ['국','영','수','정보']\n",
    "for i in range(len(sub)):\n",
    "    print(i+1,'교시',sub[i])"
   ]
  },
  {
   "cell_type": "code",
   "execution_count": 17,
   "metadata": {},
   "outputs": [
    {
     "name": "stdout",
     "output_type": "stream",
     "text": [
      "1 국\n",
      "2 영\n",
      "3 수\n",
      "4 정보\n"
     ]
    }
   ],
   "source": [
    "for i,val in enumerate(sub):\n",
    "    print(i+1, val)"
   ]
  },
  {
   "cell_type": "code",
   "execution_count": 57,
   "metadata": {},
   "outputs": [
    {
     "name": "stdout",
     "output_type": "stream",
     "text": [
      "1 교시 국 해당없음\n",
      "2 교시 영 해당없음\n",
      "3 교시 수 해당없음\n",
      "4 교시 정보 합격\n"
     ]
    }
   ],
   "source": [
    "sub = ['국','영','수','정보']\n",
    "for i in range(len(sub)):\n",
    "    if sub[i]=='정보':\n",
    "        print(i+1,'교시',sub[i],'합격')\n",
    "    else:\n",
    "        print(i+1,'교시',sub[i],'해당없음')"
   ]
  },
  {
   "cell_type": "code",
   "execution_count": 21,
   "metadata": {},
   "outputs": [
    {
     "name": "stdout",
     "output_type": "stream",
     "text": [
      "야~ 너도 파이썬 할 수 있어\n",
      "파이썬\n",
      "야~ 너도 파이썬 할 수 있어\n",
      "파이썬\n",
      "야~ 너도 파이썬 할 수 있어\n",
      "파이썬\n",
      "야~ 너도 파이썬 할 수 있어\n",
      "파이썬\n",
      "야~ 너도 파이썬 할 수 있어\n",
      "파이썬\n"
     ]
    }
   ],
   "source": [
    "for i in range(1,11):\n",
    "    if i%2==0:\n",
    "        print('파이썬')\n",
    "    else:\n",
    "        print('야~ 너도 파이썬 할 수 있어')"
   ]
  },
  {
   "cell_type": "markdown",
   "metadata": {},
   "source": [
    "## 2. List 활용"
   ]
  },
  {
   "cell_type": "code",
   "execution_count": 61,
   "metadata": {},
   "outputs": [
    {
     "data": {
      "text/plain": [
       "('     인천광역시 중구 참외전로 116 창의관     ', str, 31)"
      ]
     },
     "execution_count": 61,
     "metadata": {},
     "output_type": "execute_result"
    }
   ],
   "source": [
    "juso = '     인천광역시 중구 참외전로 116 창의관     '\n",
    "juso, type(juso),len(juso)"
   ]
  },
  {
   "cell_type": "code",
   "execution_count": 62,
   "metadata": {},
   "outputs": [],
   "source": [
    "juso = juso.strip()"
   ]
  },
  {
   "cell_type": "code",
   "execution_count": 63,
   "metadata": {},
   "outputs": [
    {
     "data": {
      "text/plain": [
       "('인천광역시 중구 참외전로 116 창의관', 21)"
      ]
     },
     "execution_count": 63,
     "metadata": {},
     "output_type": "execute_result"
    }
   ],
   "source": [
    "juso, len(juso)"
   ]
  },
  {
   "cell_type": "code",
   "execution_count": 64,
   "metadata": {},
   "outputs": [],
   "source": [
    "addr = juso.split()"
   ]
  },
  {
   "cell_type": "code",
   "execution_count": 65,
   "metadata": {},
   "outputs": [
    {
     "data": {
      "text/plain": [
       "(['인천광역시', '중구', '참외전로', '116', '창의관'], 5, list)"
      ]
     },
     "execution_count": 65,
     "metadata": {},
     "output_type": "execute_result"
    }
   ],
   "source": [
    "addr, len(addr), type(addr)"
   ]
  },
  {
   "cell_type": "code",
   "execution_count": 66,
   "metadata": {},
   "outputs": [
    {
     "data": {
      "text/plain": [
       "(['인천광역시', '중구'], ['116', '창의관'])"
      ]
     },
     "execution_count": 66,
     "metadata": {},
     "output_type": "execute_result"
    }
   ],
   "source": [
    "addr[:2], addr[3:]"
   ]
  },
  {
   "cell_type": "code",
   "execution_count": 81,
   "metadata": {},
   "outputs": [
    {
     "data": {
      "text/plain": [
       "False"
      ]
     },
     "execution_count": 81,
     "metadata": {},
     "output_type": "execute_result"
    }
   ],
   "source": [
    "juso.startswith('서울')"
   ]
  },
  {
   "cell_type": "code",
   "execution_count": 89,
   "metadata": {},
   "outputs": [
    {
     "data": {
      "text/plain": [
       "True"
      ]
     },
     "execution_count": 89,
     "metadata": {},
     "output_type": "execute_result"
    }
   ],
   "source": [
    "juso.endswith('관')"
   ]
  },
  {
   "cell_type": "code",
   "execution_count": 82,
   "metadata": {},
   "outputs": [
    {
     "data": {
      "text/plain": [
       "True"
      ]
     },
     "execution_count": 82,
     "metadata": {},
     "output_type": "execute_result"
    }
   ],
   "source": [
    "'인천광역시' in addr"
   ]
  },
  {
   "cell_type": "code",
   "execution_count": 83,
   "metadata": {},
   "outputs": [
    {
     "data": {
      "text/plain": [
       "True"
      ]
     },
     "execution_count": 83,
     "metadata": {},
     "output_type": "execute_result"
    }
   ],
   "source": [
    "'인천' in juso"
   ]
  },
  {
   "cell_type": "markdown",
   "metadata": {},
   "source": [
    "## 1. Format"
   ]
  },
  {
   "cell_type": "code",
   "execution_count": 92,
   "metadata": {},
   "outputs": [
    {
     "name": "stdout",
     "output_type": "stream",
     "text": [
      "My Fruits is 사과, 복숭아, 배\n"
     ]
    }
   ],
   "source": [
    "s = 'My Fruits is {}, {}, {}'\n",
    "pr = s.format('사과','복숭아','배')\n",
    "print(pr)"
   ]
  },
  {
   "cell_type": "code",
   "execution_count": 75,
   "metadata": {},
   "outputs": [
    {
     "name": "stdout",
     "output_type": "stream",
     "text": [
      "학교: 인천정보산업고 학번: 30102 이름: 김덕민\n"
     ]
    }
   ],
   "source": [
    "info_1 = '학교: {} 학번: {} 이름: {}'\n",
    "p = info_1.format('인천정보산업고',30102,'김덕민')\n",
    "print(p)"
   ]
  },
  {
   "cell_type": "markdown",
   "metadata": {},
   "source": [
    "## 2. %s, %d, %f.2... %(문자,정수,실수)"
   ]
  },
  {
   "cell_type": "code",
   "execution_count": 76,
   "metadata": {},
   "outputs": [
    {
     "name": "stdout",
     "output_type": "stream",
     "text": [
      "학교 : 송도고 학번 : 30102 성적 : 90.08\n"
     ]
    }
   ],
   "source": [
    "info_2 = '학교 : %s 학번 : %d 성적 : %2.2f'\n",
    "p = info_2%('송도고',30102,90.08)\n",
    "print(p)"
   ]
  },
  {
   "cell_type": "code",
   "execution_count": 93,
   "metadata": {
    "scrolled": true
   },
   "outputs": [
    {
     "name": "stdout",
     "output_type": "stream",
     "text": [
      "햄버거 2 개 가격은 8.00 달라\n"
     ]
    }
   ],
   "source": [
    "a = '%s %d 개 가격은 %.2f 달라'\n",
    "b = a%('햄버거',2,8.0)\n",
    "print(b)"
   ]
  },
  {
   "cell_type": "markdown",
   "metadata": {},
   "source": [
    "### [문제1] 30부터 50까지 중에서 홀수만 출력 "
   ]
  },
  {
   "cell_type": "code",
   "execution_count": 94,
   "metadata": {},
   "outputs": [
    {
     "name": "stdout",
     "output_type": "stream",
     "text": [
      "31\n",
      "33\n",
      "35\n",
      "37\n",
      "39\n",
      "41\n",
      "43\n",
      "45\n",
      "47\n",
      "49\n"
     ]
    }
   ],
   "source": [
    "for i in range(30,51):\n",
    "    if i%2 != 0:\n",
    "        print(i)"
   ]
  },
  {
   "cell_type": "markdown",
   "metadata": {},
   "source": [
    "### [문제2] 아이디(문자)를 입력받아 동일하면 회원, 그렇지 않으면 회원가입하세요 출력\n",
    "\n",
    "- 안녕하세요 회원님\n",
    "- 아니면 회원가입하세요"
   ]
  },
  {
   "cell_type": "code",
   "execution_count": 96,
   "metadata": {},
   "outputs": [
    {
     "name": "stdout",
     "output_type": "stream",
     "text": [
      "아이디 입력: 김덕민\n",
      "안녕하세요 김덕민님\n"
     ]
    }
   ],
   "source": [
    "ID = input('아이디 입력: ')\n",
    "if ID == '김덕민':\n",
    "    print('안녕하세요 %s'%(ID)+'님')\n",
    "else:\n",
    "    print('회원가입하세요')"
   ]
  },
  {
   "cell_type": "markdown",
   "metadata": {},
   "source": [
    "### [문제3] input ex) 인천정보산업고/30105/김장민\n",
    "- 학교 : 인천정보산업고\n",
    "- 학번 : 30105\n",
    "- 이름 : 김장민"
   ]
  },
  {
   "cell_type": "code",
   "execution_count": 17,
   "metadata": {},
   "outputs": [
    {
     "name": "stdout",
     "output_type": "stream",
     "text": [
      "입력 : 인천정보산업고/30102/김덕민\n",
      "학교 : 인천정보산업고\n",
      "학번 : 30102\n",
      "이름 : 김덕민\n"
     ]
    }
   ],
   "source": [
    "STR = input('입력 : ').split('/')\n",
    "print('학교 : %s'%(STR[0]))\n",
    "print('학번 : %s'%(STR[1]))\n",
    "print('이름 : %s'%(STR[2]))"
   ]
  },
  {
   "cell_type": "markdown",
   "metadata": {},
   "source": [
    "### [문제4] 숫자데이터 5개를 입력받아\n",
    "- 합계\n",
    "- 평균"
   ]
  },
  {
   "cell_type": "code",
   "execution_count": 18,
   "metadata": {},
   "outputs": [
    {
     "name": "stdout",
     "output_type": "stream",
     "text": [
      "숫자 5개 입력 : 1 2 3 4 5\n",
      "합계 : 15\n",
      "평균 : 3.00\n"
     ]
    }
   ],
   "source": [
    "a = list(map(int,input('숫자 5개 입력 : ').split(' ')))\n",
    "Sum = 0\n",
    "for i in range(len(a)):\n",
    "    Sum += a[i]\n",
    "print('합계 : %d'%Sum)\n",
    "print('평균 : %.2f'%(Sum/len(a)))"
   ]
  }
 ],
 "metadata": {
  "kernelspec": {
   "display_name": "Python 3",
   "language": "python",
   "name": "python3"
  },
  "language_info": {
   "codemirror_mode": {
    "name": "ipython",
    "version": 3
   },
   "file_extension": ".py",
   "mimetype": "text/x-python",
   "name": "python",
   "nbconvert_exporter": "python",
   "pygments_lexer": "ipython3",
   "version": "3.7.4"
  }
 },
 "nbformat": 4,
 "nbformat_minor": 2
}
